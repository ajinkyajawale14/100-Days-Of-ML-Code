{
 "cells": [
  {
   "cell_type": "code",
   "execution_count": 16,
   "metadata": {},
   "outputs": [
    {
     "name": "stdout",
     "output_type": "stream",
     "text": [
      "Hello\n",
      "Ajinkya\n"
     ]
    }
   ],
   "source": [
    "print(\"Hello\\nAjinkya\")\n"
   ]
  },
  {
   "cell_type": "markdown",
   "metadata": {},
   "source": [
    "changed the value of a\n",
    " I am Changing"
   ]
  },
  {
   "cell_type": "code",
   "execution_count": 32,
   "metadata": {},
   "outputs": [
    {
     "name": "stdout",
     "output_type": "stream",
     "text": [
      "['False', 'None', 'True', 'and', 'as', 'assert', 'async', 'await', 'break', 'class', 'continue', 'def', 'del', 'elif', 'else', 'except', 'finally', 'for', 'from', 'global', 'if', 'import', 'in', 'is', 'lambda', 'nonlocal', 'not', 'or', 'pass', 'raise', 'return', 'try', 'while', 'with', 'yield']\n",
      "total number of keywords 35\n"
     ]
    }
   ],
   "source": [
    "import keyword\n",
    "print(keyword.kwlist)\n",
    "print(\"total number of keywords\",len(keyword.kwlist))"
   ]
  },
  {
   "cell_type": "code",
   "execution_count": 33,
   "metadata": {},
   "outputs": [],
   "source": [
    "x=5"
   ]
  },
  {
   "cell_type": "code",
   "execution_count": 34,
   "metadata": {},
   "outputs": [
    {
     "name": "stdout",
     "output_type": "stream",
     "text": [
      "5\n"
     ]
    }
   ],
   "source": [
    "print(x)"
   ]
  },
  {
   "cell_type": "code",
   "execution_count": 35,
   "metadata": {},
   "outputs": [
    {
     "name": "stdout",
     "output_type": "stream",
     "text": [
      "140737261777872\n"
     ]
    }
   ],
   "source": [
    "print(id(x))"
   ]
  },
  {
   "cell_type": "code",
   "execution_count": 37,
   "metadata": {},
   "outputs": [
    {
     "data": {
      "text/plain": [
       "int"
      ]
     },
     "execution_count": 37,
     "metadata": {},
     "output_type": "execute_result"
    }
   ],
   "source": [
    "x=1\n",
    "type(x)"
   ]
  },
  {
   "cell_type": "code",
   "execution_count": 39,
   "metadata": {},
   "outputs": [
    {
     "data": {
      "text/plain": [
       "str"
      ]
     },
     "execution_count": 39,
     "metadata": {},
     "output_type": "execute_result"
    }
   ],
   "source": [
    "y=\"teclov\"\n",
    "type(y)"
   ]
  },
  {
   "cell_type": "code",
   "execution_count": 41,
   "metadata": {},
   "outputs": [
    {
     "data": {
      "text/plain": [
       "(1, 2, 4)"
      ]
     },
     "execution_count": 41,
     "metadata": {},
     "output_type": "execute_result"
    }
   ],
   "source": [
    "a,b,c=1,2,4\n",
    "a,b,c\n"
   ]
  },
  {
   "cell_type": "code",
   "execution_count": 42,
   "metadata": {},
   "outputs": [],
   "source": [
    "a=[1,2,3,4,4,5,6,7,7,78,4]"
   ]
  },
  {
   "cell_type": "code",
   "execution_count": 43,
   "metadata": {},
   "outputs": [
    {
     "data": {
      "text/plain": [
       "[1, 2, 3, 4, 4, 5, 6, 7, 7, 78, 4]"
      ]
     },
     "execution_count": 43,
     "metadata": {},
     "output_type": "execute_result"
    }
   ],
   "source": [
    "a\n"
   ]
  },
  {
   "cell_type": "code",
   "execution_count": 49,
   "metadata": {},
   "outputs": [
    {
     "name": "stdout",
     "output_type": "stream",
     "text": [
      "1\n",
      "2\n",
      "3\n"
     ]
    }
   ],
   "source": [
    "for i in range(3):\n",
    "    print (a[i])"
   ]
  },
  {
   "cell_type": "code",
   "execution_count": 100,
   "metadata": {},
   "outputs": [
    {
     "name": "stdout",
     "output_type": "stream",
     "text": [
      "a\n",
      "b\n",
      "c2\n",
      "4\n"
     ]
    }
   ],
   "source": [
    "b=[\"a\",'b','c2',4]\n",
    "for i in range (4):\n",
    "    print(b[i])"
   ]
  },
  {
   "cell_type": "markdown",
   "metadata": {},
   "source": [
    "# for loop "
   ]
  },
  {
   "cell_type": "code",
   "execution_count": 99,
   "metadata": {},
   "outputs": [
    {
     "name": "stdout",
     "output_type": "stream",
     "text": [
      "2\n",
      "4\n",
      "6\n",
      "8\n",
      "################\n",
      "2\n",
      "5\n",
      "8\n"
     ]
    }
   ],
   "source": [
    "a=[1,2,3,4,5,6,7,8,9]\n",
    "for i in range(1,9,2):\n",
    "    print(a[i])\n",
    "    \n",
    "print(\"################\")\n",
    "\n",
    "for i in range(1,9,3):\n",
    "    print(a[i])"
   ]
  },
  {
   "cell_type": "code",
   "execution_count": null,
   "metadata": {},
   "outputs": [],
   "source": []
  },
  {
   "cell_type": "markdown",
   "metadata": {},
   "source": [
    "# Star Pattern"
   ]
  },
  {
   "cell_type": "code",
   "execution_count": 97,
   "metadata": {},
   "outputs": [
    {
     "name": "stdout",
     "output_type": "stream",
     "text": [
      " * \n",
      " * * \n",
      " * * * \n",
      " * * * * \n",
      " * * * * * \n",
      " * * * * \n",
      " * * * \n",
      " * * \n",
      " * \n"
     ]
    }
   ],
   "source": [
    "str1=' '\n",
    "for i in range(0,9):\n",
    "    if i<5:\n",
    "        str1 +='* '        # note the spaces '* '\n",
    "        print(str1)\n",
    "    elif i>4:\n",
    "        str1 = str1[:-2]   #[:-2] means reducing the stars by 2 after 4rth iteration\n",
    "        print(str1)"
   ]
  },
  {
   "cell_type": "markdown",
   "metadata": {},
   "source": [
    "    \n",
    "   # Enumerate"
   ]
  },
  {
   "cell_type": "code",
   "execution_count": 96,
   "metadata": {},
   "outputs": [
    {
     "name": "stdout",
     "output_type": "stream",
     "text": [
      "  0\n",
      "m 1\n",
      "y 2\n",
      "  3\n",
      "n 4\n",
      "a 5\n",
      "m 6\n",
      "e 7\n",
      "  8\n",
      "i 9\n",
      "s 10\n",
      "  11\n",
      "A 12\n",
      "j 13\n",
      "i 14\n",
      "n 15\n",
      "k 16\n",
      "y 17\n",
      "a 18\n"
     ]
    }
   ],
   "source": [
    "string = \" my name is Ajinkya\"\n",
    "\n",
    "for n, alphabet in enumerate(string):\n",
    "    print (alphabet,n)"
   ]
  },
  {
   "cell_type": "code",
   "execution_count": null,
   "metadata": {},
   "outputs": [],
   "source": []
  },
  {
   "cell_type": "markdown",
   "metadata": {},
   "source": [
    "# while loop - prime number "
   ]
  },
  {
   "cell_type": "code",
   "execution_count": 94,
   "metadata": {},
   "outputs": [
    {
     "name": "stdout",
     "output_type": "stream",
     "text": [
      " 13 is a prime num\n"
     ]
    }
   ],
   "source": [
    "#prime number \n",
    "#num= int(input(\"enter number\"))\n",
    "\n",
    "num = 13\n",
    "\n",
    "isDivisible = False;\n",
    "\n",
    "i=2;\n",
    "while i<num:\n",
    "    if num % i == 0:\n",
    "        isDivisible = True;\n",
    "        print(\"{} is Divisible by {}\".format(num,i))\n",
    "    i+=1;\n",
    "    \n",
    "if isDivisible:\n",
    "    print( \" {} is not prime num\".format(num) )\n",
    "else: print( \" {} is a prime num\".format(num) )"
   ]
  },
  {
   "cell_type": "markdown",
   "metadata": {},
   "source": [
    "# Creating Function"
   ]
  },
  {
   "cell_type": "code",
   "execution_count": 104,
   "metadata": {},
   "outputs": [],
   "source": [
    "# Documentation\n",
    "def triple(num):\n",
    "    \"\"\" function which triples the value and returns it\"\"\"\n",
    "    return 3 * num"
   ]
  },
  {
   "cell_type": "code",
   "execution_count": 105,
   "metadata": {},
   "outputs": [
    {
     "data": {
      "text/plain": [
       "30"
      ]
     },
     "execution_count": 105,
     "metadata": {},
     "output_type": "execute_result"
    }
   ],
   "source": [
    "triple(10)"
   ]
  },
  {
   "cell_type": "code",
   "execution_count": 106,
   "metadata": {},
   "outputs": [
    {
     "name": "stdout",
     "output_type": "stream",
     "text": [
      " function which triples the value and returns it\n"
     ]
    }
   ],
   "source": [
    "print(triple.__doc__)"
   ]
  },
  {
   "cell_type": "code",
   "execution_count": 107,
   "metadata": {},
   "outputs": [
    {
     "name": "stdout",
     "output_type": "stream",
     "text": [
      "120\n"
     ]
    }
   ],
   "source": [
    "#factorial    \n",
    "def fact(n):\n",
    "    if n>1:\n",
    "        return n*fact(n-1)\n",
    "    else:\n",
    "        return n\n",
    "\n",
    "factorial = fact(5)\n",
    "print(factorial)"
   ]
  },
  {
   "cell_type": "code",
   "execution_count": 108,
   "metadata": {},
   "outputs": [],
   "source": [
    "# when we dont know how many arguments we going to pass\n",
    "\n",
    "def fun(*args):\n",
    "    print(args)\n",
    "    return (sum(args))"
   ]
  },
  {
   "cell_type": "code",
   "execution_count": 109,
   "metadata": {},
   "outputs": [
    {
     "name": "stdout",
     "output_type": "stream",
     "text": [
      "(1, 2, 3, 4)\n",
      "10\n"
     ]
    }
   ],
   "source": [
    "print(fun(1,2,3,4))"
   ]
  },
  {
   "cell_type": "markdown",
   "metadata": {},
   "source": [
    "# lambda function an anonymous function"
   ]
  },
  {
   "cell_type": "code",
   "execution_count": 110,
   "metadata": {},
   "outputs": [
    {
     "name": "stdout",
     "output_type": "stream",
     "text": [
      "['Ajinkya', 'Jawale']\n",
      "<class 'function'>\n"
     ]
    }
   ],
   "source": [
    "name = \"Ajinkya Jawale\"\n",
    "string_to_list = lambda x:x.split()\n",
    "print(string_to_list(name))\n",
    "print(type(string_to_list))"
   ]
  },
  {
   "cell_type": "code",
   "execution_count": 111,
   "metadata": {},
   "outputs": [
    {
     "name": "stdout",
     "output_type": "stream",
     "text": [
      "16\n"
     ]
    }
   ],
   "source": [
    "multiply = lambda x, y: x*y\n",
    "print(multiply(4,4))"
   ]
  },
  {
   "cell_type": "markdown",
   "metadata": {},
   "source": [
    "# String values and Operator"
   ]
  },
  {
   "cell_type": "code",
   "execution_count": 114,
   "metadata": {},
   "outputs": [
    {
     "data": {
      "text/plain": [
       "('ajinkya', 'jawale')"
      ]
     },
     "execution_count": 114,
     "metadata": {},
     "output_type": "execute_result"
    }
   ],
   "source": [
    "a='ajinkya'\n",
    "j=\"jawale\"\n",
    "a,j"
   ]
  },
  {
   "cell_type": "code",
   "execution_count": 116,
   "metadata": {},
   "outputs": [
    {
     "data": {
      "text/plain": [
       "(7, 6)"
      ]
     },
     "execution_count": 116,
     "metadata": {},
     "output_type": "execute_result"
    }
   ],
   "source": [
    "len(a),len(j)"
   ]
  },
  {
   "cell_type": "code",
   "execution_count": 122,
   "metadata": {},
   "outputs": [
    {
     "name": "stdout",
     "output_type": "stream",
     "text": [
      "AJINKYA\n"
     ]
    }
   ],
   "source": [
    "print(a.upper())"
   ]
  },
  {
   "cell_type": "code",
   "execution_count": 129,
   "metadata": {},
   "outputs": [
    {
     "name": "stdout",
     "output_type": "stream",
     "text": [
      "there is more space at end          \n",
      "there is more space at end\n"
     ]
    }
   ],
   "source": [
    "space_at_end=\"there is more space at end          \"\n",
    "print(space_at_end)\n",
    "print(space_at_end.rstrip())"
   ]
  },
  {
   "cell_type": "code",
   "execution_count": 136,
   "metadata": {},
   "outputs": [
    {
     "name": "stdout",
     "output_type": "stream",
     "text": [
      "%4\n"
     ]
    }
   ],
   "source": [
    "increment = '%4'\n",
    "print(increment.rstrip('%'))"
   ]
  },
  {
   "cell_type": "code",
   "execution_count": 147,
   "metadata": {},
   "outputs": [
    {
     "name": "stdout",
     "output_type": "stream",
     "text": [
      "4\n"
     ]
    }
   ],
   "source": [
    "#note this\n",
    "increment = '4%'\n",
    "print(increment.rstrip('%'))"
   ]
  },
  {
   "cell_type": "code",
   "execution_count": 150,
   "metadata": {},
   "outputs": [
    {
     "name": "stdout",
     "output_type": "stream",
     "text": [
      "        space at starting\n",
      "space at starting\n"
     ]
    }
   ],
   "source": [
    "start = \"        space at starting\"\n",
    "print(start)\n",
    "print(start.lstrip())"
   ]
  },
  {
   "cell_type": "code",
   "execution_count": 188,
   "metadata": {},
   "outputs": [
    {
     "name": "stdout",
     "output_type": "stream",
     "text": [
      "444\n"
     ]
    }
   ],
   "source": [
    "#remove from both sides\n",
    "str1= '*444#'\n",
    "print(str1.rstrip('#').lstrip('*'))    #sequence doesnt matter just strip it off!"
   ]
  },
  {
   "cell_type": "markdown",
   "metadata": {},
   "source": [
    "# slicing"
   ]
  },
  {
   "cell_type": "code",
   "execution_count": 154,
   "metadata": {},
   "outputs": [
    {
     "name": "stdout",
     "output_type": "stream",
     "text": [
      " jawale\n"
     ]
    }
   ],
   "source": [
    "a='ajinkya jawale'\n",
    "num = a[7:]\n",
    "print(num)           #ajinkya len is 7 but note that index starting from 0"
   ]
  },
  {
   "cell_type": "code",
   "execution_count": 180,
   "metadata": {},
   "outputs": [
    {
     "data": {
      "text/plain": [
       "'kawale'"
      ]
     },
     "execution_count": 180,
     "metadata": {},
     "output_type": "execute_result"
    }
   ],
   "source": [
    "num.replace(\"j\",\"k\")"
   ]
  },
  {
   "cell_type": "code",
   "execution_count": 186,
   "metadata": {},
   "outputs": [],
   "source": [
    "a='ajinkya jawale'\n",
    "num = a[0:7]+a[7:]"
   ]
  },
  {
   "cell_type": "code",
   "execution_count": 187,
   "metadata": {},
   "outputs": [
    {
     "data": {
      "text/plain": [
       "'Ashok jawale'"
      ]
     },
     "execution_count": 187,
     "metadata": {},
     "output_type": "execute_result"
    }
   ],
   "source": [
    "num.replace(\"ajinkya\",\"Ashok\")"
   ]
  },
  {
   "cell_type": "code",
   "execution_count": 192,
   "metadata": {},
   "outputs": [
    {
     "name": "stdout",
     "output_type": "stream",
     "text": [
      "ajinkya \n"
     ]
    }
   ],
   "source": [
    "print(a[ :-6])          #jawale gayab"
   ]
  },
  {
   "cell_type": "code",
   "execution_count": 193,
   "metadata": {},
   "outputs": [
    {
     "name": "stdout",
     "output_type": "stream",
     "text": [
      "nkya jawa\n"
     ]
    }
   ],
   "source": [
    "print(a[3:-2])         #note the changes"
   ]
  },
  {
   "cell_type": "code",
   "execution_count": 194,
   "metadata": {},
   "outputs": [
    {
     "name": "stdout",
     "output_type": "stream",
     "text": [
      "2468\n"
     ]
    }
   ],
   "source": [
    "num='123456789'\n",
    "even=num[1::2]\n",
    "print(even)"
   ]
  },
  {
   "cell_type": "code",
   "execution_count": 195,
   "metadata": {},
   "outputs": [
    {
     "name": "stdout",
     "output_type": "stream",
     "text": [
      "Ajinkya Ashok Jawale\n"
     ]
    }
   ],
   "source": [
    "a=\"Ajinkya\"\n",
    "b=\"Ashok\"\n",
    "c=\"Jawale\"\n",
    "print(\"{0} {1} {2}\".format(a,b,c))"
   ]
  },
  {
   "cell_type": "markdown",
   "metadata": {},
   "source": [
    "# Concatenate"
   ]
  },
  {
   "cell_type": "code",
   "execution_count": 198,
   "metadata": {},
   "outputs": [
    {
     "name": "stdout",
     "output_type": "stream",
     "text": [
      "Ajinkya Jawale\n"
     ]
    }
   ],
   "source": [
    "#concate\n",
    "a=\"Ajinkya\"\n",
    "b=\"Ashok\"\n",
    "c=\"Jawale\"\n",
    "a+= ' ' + c\n",
    "print(a)"
   ]
  },
  {
   "cell_type": "markdown",
   "metadata": {},
   "source": [
    "# Data Structures in Python\n"
   ]
  },
  {
   "cell_type": "code",
   "execution_count": 200,
   "metadata": {},
   "outputs": [
    {
     "name": "stdout",
     "output_type": "stream",
     "text": [
      "['a', 'b', 'c', 'd']\n"
     ]
    }
   ],
   "source": [
    "x=['a','b','c']\n",
    "y=x\n",
    "x.append('d')\n",
    "print(x)"
   ]
  },
  {
   "cell_type": "code",
   "execution_count": 201,
   "metadata": {},
   "outputs": [
    {
     "name": "stdout",
     "output_type": "stream",
     "text": [
      "2449311420744\n",
      "2449311420744\n"
     ]
    }
   ],
   "source": [
    "print(id(x))\n",
    "print(id(y))"
   ]
  },
  {
   "cell_type": "code",
   "execution_count": 203,
   "metadata": {},
   "outputs": [
    {
     "name": "stdout",
     "output_type": "stream",
     "text": [
      "2449311203720\n"
     ]
    }
   ],
   "source": [
    "#now we dont want to them share same memory address\n",
    "y=x.copy()\n",
    "print(id(y))"
   ]
  },
  {
   "cell_type": "code",
   "execution_count": 205,
   "metadata": {},
   "outputs": [
    {
     "name": "stdout",
     "output_type": "stream",
     "text": [
      "['Ajinkya', ' Ashok', ' Jawale', '']\n"
     ]
    }
   ],
   "source": [
    "name=\"Ajinkya. Ashok. Jawale.\"\n",
    "print(name.split(\".\"))\n",
    "\n",
    "\n",
    "#use split if there is no \".\""
   ]
  },
  {
   "cell_type": "markdown",
   "metadata": {},
   "source": [
    "# Tuple"
   ]
  },
  {
   "cell_type": "markdown",
   "metadata": {},
   "source": [
    "\"\"\"\n",
    "\n",
    "1.\tOnce tuple created its values can not be modified\n",
    "2.\tTuple= (         , , , , ,  ,    )\n",
    "3.\tTuples can have heterogeneous values\n",
    "\n",
    "\"\"\""
   ]
  },
  {
   "cell_type": "markdown",
   "metadata": {},
   "source": [
    "# sets"
   ]
  },
  {
   "cell_type": "markdown",
   "metadata": {},
   "source": [
    "\"\"\"\n",
    "1. Set will return only unique values in the list\n",
    "\n",
    "functions\n",
    "1.\tintersection    =>print all same elements in the both the list\n",
    "2.\tunion           =>print all elements in the list without repeatating\n",
    "3.\tdifference       => print all execpt same elements in both the list\n",
    "4. add\n",
    "5. remove\n",
    "6. a.issubset(b)     =>boolean true or false output\n",
    "7. symmetric differnce =>  prints values from both sets except the values which are comman in both\n",
    "\"\"\"\n"
   ]
  },
  {
   "cell_type": "code",
   "execution_count": null,
   "metadata": {},
   "outputs": [],
   "source": []
  }
 ],
 "metadata": {
  "kernelspec": {
   "display_name": "Python 3",
   "language": "python",
   "name": "python3"
  },
  "language_info": {
   "codemirror_mode": {
    "name": "ipython",
    "version": 3
   },
   "file_extension": ".py",
   "mimetype": "text/x-python",
   "name": "python",
   "nbconvert_exporter": "python",
   "pygments_lexer": "ipython3",
   "version": "3.7.1"
  }
 },
 "nbformat": 4,
 "nbformat_minor": 1
}
